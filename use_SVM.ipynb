{
 "cells": [
  {
   "cell_type": "markdown",
   "id": "fbfa916c",
   "metadata": {},
   "source": [
    "This notebook demonstrates how to upload personal, pre-saved Support Vector Machines (SVMs) to classify pre-saved detector plane images (dpis). Users can chose between original or lowRES SVM models, provided their dpis match the expected shape for the chosen resolution. \n",
    "\n",
    "original: 286x173: (1, 49478) reshaped\n",
    "\n",
    "lowRES: 16x16x2 including a 3rd energy bin dimension: (1, 512) reshaped\n",
    "\n",
    "\n",
    "Error will occur if personal saved DPI resolution does not match the requested SVM resolution"
   ]
  },
  {
   "cell_type": "code",
   "execution_count": 21,
   "id": "f64738c5",
   "metadata": {},
   "outputs": [],
   "source": [
    "resolution = \"original\"   # which SVM resolution you would like to use: 'original' or 'lowRES'\n",
    "dpi_name = \"GLITCHdpi_181_window_2.npy\"  # name of a dpi file (testing on an original resolution glitch in this case)"
   ]
  },
  {
   "cell_type": "code",
   "execution_count": 22,
   "id": "a377b4f2",
   "metadata": {},
   "outputs": [
    {
     "name": "stdout",
     "output_type": "stream",
     "text": [
      "Prediction for GLITCHdpi_181_window_2.npy: GLITCH\n",
      "Confidence in predicted class: 1.0000\n"
     ]
    }
   ],
   "source": [
    "import pickle, os\n",
    "import numpy as np\n",
    "\n",
    "if resolution == \"original\":\n",
    "    model = \"svm_original_model.pkl\"\n",
    "    dpi_path = os.path.expanduser(f\"~/scratch/GLITCHdpi/{dpi_name}\")    # adjust your dpi path\n",
    "else:\n",
    "    model = \"svm_lowRES_model.pkl\"\n",
    "    dpi_path = os.path.expanduser(f\"~/scratch/GLITCHdpi_lowRES/{dpi_name}\")    # adjust your dpi path\n",
    "\n",
    "dpi = np.load(dpi_path, allow_pickle=True)\n",
    "flatdpi = dpi.ravel().reshape(1, -1)    # flattening dpi\n",
    "\n",
    "# load pretrained SVM model\n",
    "with open(model, \"rb\") as f:\n",
    "    clf = pickle.load(f)\n",
    "\n",
    "predicted = clf.predict(flatdpi)[0]\n",
    "probabilities = clf.predict_proba(flatdpi)\n",
    "\n",
    "predict_index = np.argmax(probabilities[0])\n",
    "confidence = probabilities[0][predict_index]\n",
    "\n",
    "print(f\"Prediction for {dpi_name}: {predicted}\")\n",
    "print(f\"Confidence in predicted class: {confidence:.4f}\")\n"
   ]
  },
  {
   "cell_type": "code",
   "execution_count": null,
   "id": "d1c37bb8",
   "metadata": {},
   "outputs": [],
   "source": []
  }
 ],
 "metadata": {
  "kernelspec": {
   "display_name": "STARproj",
   "language": "python",
   "name": "starproj"
  },
  "language_info": {
   "codemirror_mode": {
    "name": "ipython",
    "version": 3
   },
   "file_extension": ".py",
   "mimetype": "text/x-python",
   "name": "python",
   "nbconvert_exporter": "python",
   "pygments_lexer": "ipython3",
   "version": "3.10.16"
  }
 },
 "nbformat": 4,
 "nbformat_minor": 5
}
